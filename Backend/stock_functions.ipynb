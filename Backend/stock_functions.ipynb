{
 "metadata": {
  "language_info": {
   "codemirror_mode": {
    "name": "ipython",
    "version": 3
   },
   "file_extension": ".py",
   "mimetype": "text/x-python",
   "name": "python",
   "nbconvert_exporter": "python",
   "pygments_lexer": "ipython3",
   "version": "3.9.5"
  },
  "orig_nbformat": 2,
  "kernelspec": {
   "name": "python395jvsc74a57bd0aee8b7b246df8f9039afb4144a1f6fd8d2ca17a180786b69acc140d282b71a49",
   "display_name": "Python 3.9.5 64-bit"
  },
  "metadata": {
   "interpreter": {
    "hash": "aee8b7b246df8f9039afb4144a1f6fd8d2ca17a180786b69acc140d282b71a49"
   }
  }
 },
 "nbformat": 4,
 "nbformat_minor": 2,
 "cells": [
  {
   "cell_type": "code",
   "execution_count": 1,
   "metadata": {},
   "outputs": [],
   "source": [
    "import pandas as pd\n",
    "import numpy as np\n",
    "import json "
   ]
  },
  {
   "cell_type": "code",
   "execution_count": 2,
   "metadata": {},
   "outputs": [
    {
     "output_type": "stream",
     "name": "stdout",
     "text": [
      "Requirement already satisfied: yfinance in /Library/Frameworks/Python.framework/Versions/3.9/lib/python3.9/site-packages (0.1.59)\n",
      "Requirement already satisfied: numpy>=1.15 in /Library/Frameworks/Python.framework/Versions/3.9/lib/python3.9/site-packages (from yfinance) (1.20.3)\n",
      "Requirement already satisfied: multitasking>=0.0.7 in /Library/Frameworks/Python.framework/Versions/3.9/lib/python3.9/site-packages (from yfinance) (0.0.9)\n",
      "Requirement already satisfied: lxml>=4.5.1 in /Library/Frameworks/Python.framework/Versions/3.9/lib/python3.9/site-packages (from yfinance) (4.6.3)\n",
      "Requirement already satisfied: pandas>=0.24 in /Library/Frameworks/Python.framework/Versions/3.9/lib/python3.9/site-packages (from yfinance) (1.2.4)\n",
      "Requirement already satisfied: requests>=2.20 in /Library/Frameworks/Python.framework/Versions/3.9/lib/python3.9/site-packages (from yfinance) (2.25.1)\n",
      "Requirement already satisfied: python-dateutil>=2.7.3 in /Library/Frameworks/Python.framework/Versions/3.9/lib/python3.9/site-packages (from pandas>=0.24->yfinance) (2.8.1)\n",
      "Requirement already satisfied: pytz>=2017.3 in /Library/Frameworks/Python.framework/Versions/3.9/lib/python3.9/site-packages (from pandas>=0.24->yfinance) (2021.1)\n",
      "Requirement already satisfied: six>=1.5 in /Library/Frameworks/Python.framework/Versions/3.9/lib/python3.9/site-packages (from python-dateutil>=2.7.3->pandas>=0.24->yfinance) (1.16.0)\n",
      "Requirement already satisfied: certifi>=2017.4.17 in /Library/Frameworks/Python.framework/Versions/3.9/lib/python3.9/site-packages (from requests>=2.20->yfinance) (2021.5.30)\n",
      "Requirement already satisfied: urllib3<1.27,>=1.21.1 in /Library/Frameworks/Python.framework/Versions/3.9/lib/python3.9/site-packages (from requests>=2.20->yfinance) (1.26.5)\n",
      "Requirement already satisfied: idna<3,>=2.5 in /Library/Frameworks/Python.framework/Versions/3.9/lib/python3.9/site-packages (from requests>=2.20->yfinance) (2.10)\n",
      "Requirement already satisfied: chardet<5,>=3.0.2 in /Library/Frameworks/Python.framework/Versions/3.9/lib/python3.9/site-packages (from requests>=2.20->yfinance) (4.0.0)\n"
     ]
    }
   ],
   "source": [
    "!pip install yfinance\n",
    "import yfinance as yf \n"
   ]
  },
  {
   "cell_type": "code",
   "execution_count": 3,
   "metadata": {},
   "outputs": [
    {
     "output_type": "execute_result",
     "data": {
      "text/plain": [
       "                  Open        High         Low       Close    Volume  \\\n",
       "Date                                                                   \n",
       "2021-06-11  126.529999  127.410004  126.099998  127.380798  35428596   \n",
       "\n",
       "            Dividends  Stock Splits  \n",
       "Date                                 \n",
       "2021-06-11          0             0  "
      ],
      "text/html": "<div>\n<style scoped>\n    .dataframe tbody tr th:only-of-type {\n        vertical-align: middle;\n    }\n\n    .dataframe tbody tr th {\n        vertical-align: top;\n    }\n\n    .dataframe thead th {\n        text-align: right;\n    }\n</style>\n<table border=\"1\" class=\"dataframe\">\n  <thead>\n    <tr style=\"text-align: right;\">\n      <th></th>\n      <th>Open</th>\n      <th>High</th>\n      <th>Low</th>\n      <th>Close</th>\n      <th>Volume</th>\n      <th>Dividends</th>\n      <th>Stock Splits</th>\n    </tr>\n    <tr>\n      <th>Date</th>\n      <th></th>\n      <th></th>\n      <th></th>\n      <th></th>\n      <th></th>\n      <th></th>\n      <th></th>\n    </tr>\n  </thead>\n  <tbody>\n    <tr>\n      <th>2021-06-11</th>\n      <td>126.529999</td>\n      <td>127.410004</td>\n      <td>126.099998</td>\n      <td>127.380798</td>\n      <td>35428596</td>\n      <td>0</td>\n      <td>0</td>\n    </tr>\n  </tbody>\n</table>\n</div>"
     },
     "metadata": {},
     "execution_count": 3
    }
   ],
   "source": [
    "yf.Ticker('AAPL').history(period='1d')"
   ]
  },
  {
   "cell_type": "code",
   "execution_count": 38,
   "metadata": {},
   "outputs": [],
   "source": [
    "\n",
    "#yf.Ticker('AAPL').info"
   ]
  },
  {
   "cell_type": "code",
   "execution_count": 3,
   "metadata": {},
   "outputs": [
    {
     "output_type": "execute_result",
     "data": {
      "text/plain": [
       "{'zip': '94403',\n",
       " 'sector': 'Communication Services',\n",
       " 'fullTimeEmployees': 960,\n",
       " 'longBusinessSummary': 'Roblox Corporation develops and operates an online entertainment platform. It offers Roblox Client, an application that allows users to explore 3D digital worlds; and Roblox Studio, a toolset that allows developers and creators to build, publish, and operate 3D experiences and other content. The company also provides Roblox Cloud, a solution that provides services and infrastructure to power the human co-experience platform. It serves customers in the United States, Canada, Europe, the Asia-Pacific, and internationally. Roblox Corporation was incorporated in 2004 and is based in San Mateo, California.',\n",
       " 'city': 'San Mateo',\n",
       " 'phone': '888 858 2569',\n",
       " 'state': 'CA',\n",
       " 'country': 'United States',\n",
       " 'companyOfficers': [],\n",
       " 'website': 'http://www.corp.roblox.com',\n",
       " 'maxAge': 1,\n",
       " 'address1': '970 Park Place',\n",
       " 'industry': 'Electronic Gaming & Multimedia',\n",
       " 'address2': 'Suite 100',\n",
       " 'previousClose': 91,\n",
       " 'regularMarketOpen': 91.97,\n",
       " 'twoHundredDayAverage': 76.51652,\n",
       " 'trailingAnnualDividendYield': None,\n",
       " 'payoutRatio': 0,\n",
       " 'volume24Hr': None,\n",
       " 'regularMarketDayHigh': 94.77,\n",
       " 'navPrice': None,\n",
       " 'averageDailyVolume10Day': 13195037,\n",
       " 'totalAssets': None,\n",
       " 'regularMarketPreviousClose': 91,\n",
       " 'fiftyDayAverage': 81.24,\n",
       " 'trailingAnnualDividendRate': None,\n",
       " 'open': 91.97,\n",
       " 'toCurrency': None,\n",
       " 'averageVolume10days': 13195037,\n",
       " 'expireDate': None,\n",
       " 'yield': None,\n",
       " 'algorithm': None,\n",
       " 'dividendRate': None,\n",
       " 'exDividendDate': None,\n",
       " 'beta': None,\n",
       " 'circulatingSupply': None,\n",
       " 'startDate': None,\n",
       " 'regularMarketDayLow': 91.15,\n",
       " 'priceHint': 2,\n",
       " 'currency': 'USD',\n",
       " 'regularMarketVolume': 8528675,\n",
       " 'lastMarket': None,\n",
       " 'maxSupply': None,\n",
       " 'openInterest': None,\n",
       " 'marketCap': 52891709440,\n",
       " 'volumeAllCurrencies': None,\n",
       " 'strikePrice': None,\n",
       " 'averageVolume': 10349098,\n",
       " 'priceToSalesTrailing12Months': 46.021164,\n",
       " 'dayLow': 91.15,\n",
       " 'ask': 93.15,\n",
       " 'ytdReturn': None,\n",
       " 'askSize': 900,\n",
       " 'volume': 8528675,\n",
       " 'fiftyTwoWeekHigh': 103.866,\n",
       " 'forwardPE': None,\n",
       " 'fromCurrency': None,\n",
       " 'fiveYearAvgDividendYield': None,\n",
       " 'fiftyTwoWeekLow': 60.5,\n",
       " 'bid': 92.95,\n",
       " 'tradeable': False,\n",
       " 'dividendYield': None,\n",
       " 'bidSize': 1300,\n",
       " 'dayHigh': 94.77,\n",
       " 'exchange': 'NYQ',\n",
       " 'shortName': 'Roblox Corporation',\n",
       " 'longName': 'Roblox Corporation',\n",
       " 'exchangeTimezoneName': 'America/New_York',\n",
       " 'exchangeTimezoneShortName': 'EDT',\n",
       " 'isEsgPopulated': False,\n",
       " 'gmtOffSetMilliseconds': '-14400000',\n",
       " 'quoteType': 'EQUITY',\n",
       " 'symbol': 'RBLX',\n",
       " 'messageBoardId': 'finmb_32789865',\n",
       " 'market': 'us_market',\n",
       " 'annualHoldingsTurnover': None,\n",
       " 'enterpriseToRevenue': 44.843,\n",
       " 'beta3Year': None,\n",
       " 'profitMargins': -0.27242002,\n",
       " 'enterpriseToEbitda': -186.136,\n",
       " '52WeekChange': 0.33553958,\n",
       " 'morningStarRiskRating': None,\n",
       " 'forwardEps': None,\n",
       " 'revenueQuarterlyGrowth': None,\n",
       " 'sharesOutstanding': 516244000,\n",
       " 'fundInceptionDate': None,\n",
       " 'annualReportExpenseRatio': None,\n",
       " 'bookValue': None,\n",
       " 'sharesShort': 11086685,\n",
       " 'sharesPercentSharesOut': 0.0195,\n",
       " 'fundFamily': None,\n",
       " 'lastFiscalYearEnd': 1609372800,\n",
       " 'heldPercentInstitutions': 0.72024,\n",
       " 'netIncomeToCommon': -313092000,\n",
       " 'trailingEps': None,\n",
       " 'lastDividendValue': None,\n",
       " 'SandP52WeekChange': 0.38506937,\n",
       " 'priceToBook': None,\n",
       " 'heldPercentInsiders': 0.03841,\n",
       " 'nextFiscalYearEnd': 1672444800,\n",
       " 'mostRecentQuarter': 1617148800,\n",
       " 'shortRatio': 0.88,\n",
       " 'sharesShortPreviousMonthDate': 1619740800,\n",
       " 'floatShares': 227659066,\n",
       " 'enterpriseValue': 51538022400,\n",
       " 'threeYearAverageReturn': None,\n",
       " 'lastSplitDate': None,\n",
       " 'lastSplitFactor': None,\n",
       " 'legalType': None,\n",
       " 'lastDividendDate': None,\n",
       " 'morningStarOverallRating': None,\n",
       " 'earningsQuarterlyGrowth': None,\n",
       " 'dateShortInterest': 1622160000,\n",
       " 'pegRatio': 86.19,\n",
       " 'lastCapGain': None,\n",
       " 'shortPercentOfFloat': 0.040799998,\n",
       " 'sharesShortPriorMonth': 5610076,\n",
       " 'impliedSharesOutstanding': 569830976,\n",
       " 'category': None,\n",
       " 'fiveYearAverageReturn': None,\n",
       " 'regularMarketPrice': 92.82,\n",
       " 'logo_url': 'https://logo.clearbit.com/corp.roblox.com'}"
      ]
     },
     "metadata": {},
     "execution_count": 3
    }
   ],
   "source": [
    "yf.Ticker('RBLX').info\n",
    "#x = yf.Ticker('AAPL').history(period='1d')\n",
    "#print(x)\n",
    "#x.iloc[0,3] # slice the closing price for today from the dataframe that is returned from the history function in yahoo finance \n"
   ]
  },
  {
   "cell_type": "code",
   "execution_count": 10,
   "metadata": {},
   "outputs": [
    {
     "output_type": "execute_result",
     "data": {
      "text/plain": [
       "(126.50499725341797, 'Apple Inc.')"
      ]
     },
     "metadata": {},
     "execution_count": 10
    }
   ],
   "source": [
    "def get_price (ticker):\n",
    "    symbol = yf.Ticker(ticker)\n",
    "    price = symbol.history(period='1d').iloc[0,3]\n",
    "    name = symbol.info\n",
    "    return price , name['longName']\n",
    "\n",
    "get_price('AAPL')\n",
    "# returns closing price for the current day type is a numpy.float\n",
    " \n",
    "\n",
    "    \n",
    "\n"
   ]
  },
  {
   "cell_type": "code",
   "execution_count": 22,
   "metadata": {},
   "outputs": [
    {
     "output_type": "stream",
     "name": "stdout",
     "text": [
      "{\"Symbol\": \"AAPL\", \"Open\": \"$127.0199966430664\", \"High\": \"$128.19000244140625\", \"Low\": \"$126.11499786376953\", \"Close\": \"$126.38990020751953\", \"Volume\": \"$41066116\"}\n"
     ]
    }
   ],
   "source": [
    "def get_details (ticker):\n",
    "    symbol = yf.Ticker(ticker)\n",
    "    open = symbol.history(period='1d').iloc[0,0]\n",
    "    high = symbol.history(period='1d').iloc[0,1]\n",
    "    low = symbol.history(period='1d').iloc[0,2]\n",
    "    close = symbol.history(period='1d').iloc[0,3]\n",
    "    volume = symbol.history(period='1d').iloc[0,4]\n",
    "    stock_dict = {'Symbol' : ticker , 'Open' : \"$\" + str(open) , 'High' : \"$\" + str(high) , 'Low' : \"$\" + str(low) , 'Close' : \"$\" + str(close), 'Volume' : \"$\" + str(volume)}\n",
    "    js = json.dumps(stock_dict)\n",
    "    json_file.write(js)\n",
    "    json_file.close()\n",
    "    return js\n",
    "\n",
    "\n",
    "AAPL = get_details(\"AAPL\")\n",
    "print(AAPL)\n",
    "# returns ticker , open , high , low , close , volume \n",
    "# type is a tuple with string and numpy.floats  "
   ]
  },
  {
   "cell_type": "code",
   "execution_count": 6,
   "metadata": {},
   "outputs": [],
   "source": [
    "def get_details(ticker):\n",
    "    symbol = yf.Ticker(ticker)\n",
    "    name = symbol.info['longName']\n",
    "    open = symbol.history(period='1d').iloc[0, 0]\n",
    "    high = symbol.history(period='1d').iloc[0, 1]\n",
    "    low = symbol.history(period='1d').iloc[0, 2]\n",
    "    close = symbol.history(period='1d').iloc[0, 3]\n",
    "    volume = symbol.history(period='1d').iloc[0, 4]\n",
    "    marketcap = symbol.info['marketCap']\n",
    "    PE = symbol.info['priceToSalesTrailing12Months']\n",
    "\n",
    "    stock_dict = {\n",
    "        'Name' : name,\n",
    "        'Symbol': str(ticker),\n",
    "        'Open': str(open),\n",
    "        'High': str(high),\n",
    "        'Low': str(low),\n",
    "        'Close': str(close),\n",
    "        'Volume': str(volume),\n",
    "        'Marketcap': str(marketcap),\n",
    "        'P/E': str(PE)}\n",
    "\n",
    "    return json.dumps(stock_dict)"
   ]
  },
  {
   "cell_type": "code",
   "execution_count": 10,
   "metadata": {},
   "outputs": [
    {
     "output_type": "stream",
     "name": "stdout",
     "text": [
      "{\"Name\": \"Apple Inc.\", \"Symbol\": \"AAPL\", \"Open\": \"126.52999877929688\", \"High\": \"127.44000244140625\", \"Low\": \"126.0999984741211\", \"Close\": \"127.3499984741211\", \"Volume\": \"53415300\", \"Marketcap\": \"2125165756416\", \"P/E\": \"6.530813\"}\n"
     ]
    }
   ],
   "source": [
    "print(get_details('AAPL'))"
   ]
  },
  {
   "cell_type": "code",
   "execution_count": 4,
   "metadata": {},
   "outputs": [],
   "source": [
    "def json_list_maker():\n",
    "    json_list = []\n",
    "    for stock in ['AAPL','AMZN','EQIX','TSLA','WMT'] :\n",
    "        json_list.append(get_details(stock))   \n",
    "    return json.dumps(json_list,indent = 2)\n"
   ]
  },
  {
   "cell_type": "code",
   "execution_count": 5,
   "metadata": {},
   "outputs": [
    {
     "output_type": "stream",
     "name": "stdout",
     "text": [
      "<class 'str'>\n"
     ]
    }
   ],
   "source": [
    "print(type(json_list_maker()))"
   ]
  },
  {
   "cell_type": "code",
   "execution_count": 11,
   "metadata": {},
   "outputs": [
    {
     "output_type": "error",
     "ename": "TypeError",
     "evalue": "object of type 'int' has no len()",
     "traceback": [
      "\u001b[0;31m---------------------------------------------------------------------------\u001b[0m",
      "\u001b[0;31mTypeError\u001b[0m                                 Traceback (most recent call last)",
      "\u001b[0;32m<ipython-input-11-07366c16a4ee>\u001b[0m in \u001b[0;36m<module>\u001b[0;34m\u001b[0m\n\u001b[0;32m----> 1\u001b[0;31m \u001b[0mprint\u001b[0m\u001b[0;34m(\u001b[0m\u001b[0mlen\u001b[0m\u001b[0;34m(\u001b[0m\u001b[0;36m2\u001b[0m\u001b[0;34m)\u001b[0m\u001b[0;34m)\u001b[0m\u001b[0;34m\u001b[0m\u001b[0;34m\u001b[0m\u001b[0m\n\u001b[0m",
      "\u001b[0;31mTypeError\u001b[0m: object of type 'int' has no len()"
     ]
    }
   ],
   "source": [
    "print(len(2))"
   ]
  },
  {
   "cell_type": "code",
   "execution_count": null,
   "metadata": {},
   "outputs": [],
   "source": []
  }
 ]
}