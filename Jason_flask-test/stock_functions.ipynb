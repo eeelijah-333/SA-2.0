{
 "metadata": {
  "language_info": {
   "codemirror_mode": {
    "name": "ipython",
    "version": 3
   },
   "file_extension": ".py",
   "mimetype": "text/x-python",
   "name": "python",
   "nbconvert_exporter": "python",
   "pygments_lexer": "ipython3",
   "version": "3.9.5"
  },
  "orig_nbformat": 2,
  "kernelspec": {
   "name": "python395jvsc74a57bd0aee8b7b246df8f9039afb4144a1f6fd8d2ca17a180786b69acc140d282b71a49",
   "display_name": "Python 3.9.5 64-bit"
  },
  "metadata": {
   "interpreter": {
    "hash": "aee8b7b246df8f9039afb4144a1f6fd8d2ca17a180786b69acc140d282b71a49"
   }
  }
 },
 "nbformat": 4,
 "nbformat_minor": 2,
 "cells": [
  {
   "cell_type": "code",
   "execution_count": 1,
   "metadata": {},
   "outputs": [],
   "source": [
    "import pandas as pd\n",
    "import numpy as np\n",
    "import json "
   ]
  },
  {
   "cell_type": "code",
   "execution_count": 2,
   "metadata": {},
   "outputs": [
    {
     "output_type": "stream",
     "name": "stdout",
     "text": [
      "Requirement already satisfied: yfinance in /Library/Frameworks/Python.framework/Versions/3.9/lib/python3.9/site-packages (0.1.59)\n",
      "Requirement already satisfied: numpy>=1.15 in /Library/Frameworks/Python.framework/Versions/3.9/lib/python3.9/site-packages (from yfinance) (1.20.3)\n",
      "Requirement already satisfied: pandas>=0.24 in /Library/Frameworks/Python.framework/Versions/3.9/lib/python3.9/site-packages (from yfinance) (1.2.4)\n",
      "Requirement already satisfied: requests>=2.20 in /Library/Frameworks/Python.framework/Versions/3.9/lib/python3.9/site-packages (from yfinance) (2.25.1)\n",
      "Requirement already satisfied: lxml>=4.5.1 in /Library/Frameworks/Python.framework/Versions/3.9/lib/python3.9/site-packages (from yfinance) (4.6.3)\n",
      "Requirement already satisfied: multitasking>=0.0.7 in /Library/Frameworks/Python.framework/Versions/3.9/lib/python3.9/site-packages (from yfinance) (0.0.9)\n",
      "Requirement already satisfied: pytz>=2017.3 in /Library/Frameworks/Python.framework/Versions/3.9/lib/python3.9/site-packages (from pandas>=0.24->yfinance) (2021.1)\n",
      "Requirement already satisfied: python-dateutil>=2.7.3 in /Library/Frameworks/Python.framework/Versions/3.9/lib/python3.9/site-packages (from pandas>=0.24->yfinance) (2.8.1)\n",
      "Requirement already satisfied: six>=1.5 in /Library/Frameworks/Python.framework/Versions/3.9/lib/python3.9/site-packages (from python-dateutil>=2.7.3->pandas>=0.24->yfinance) (1.16.0)\n",
      "Requirement already satisfied: chardet<5,>=3.0.2 in /Library/Frameworks/Python.framework/Versions/3.9/lib/python3.9/site-packages (from requests>=2.20->yfinance) (4.0.0)\n",
      "Requirement already satisfied: urllib3<1.27,>=1.21.1 in /Library/Frameworks/Python.framework/Versions/3.9/lib/python3.9/site-packages (from requests>=2.20->yfinance) (1.26.5)\n",
      "Requirement already satisfied: certifi>=2017.4.17 in /Library/Frameworks/Python.framework/Versions/3.9/lib/python3.9/site-packages (from requests>=2.20->yfinance) (2021.5.30)\n",
      "Requirement already satisfied: idna<3,>=2.5 in /Library/Frameworks/Python.framework/Versions/3.9/lib/python3.9/site-packages (from requests>=2.20->yfinance) (2.10)\n"
     ]
    }
   ],
   "source": [
    "!pip install yfinance\n",
    "import yfinance as yf \n"
   ]
  },
  {
   "cell_type": "code",
   "execution_count": 3,
   "metadata": {},
   "outputs": [
    {
     "output_type": "execute_result",
     "data": {
      "text/plain": [
       "                  Open        High         Low       Close    Volume  \\\n",
       "Date                                                                   \n",
       "2021-06-11  126.529999  127.410004  126.099998  127.380798  35428596   \n",
       "\n",
       "            Dividends  Stock Splits  \n",
       "Date                                 \n",
       "2021-06-11          0             0  "
      ],
      "text/html": "<div>\n<style scoped>\n    .dataframe tbody tr th:only-of-type {\n        vertical-align: middle;\n    }\n\n    .dataframe tbody tr th {\n        vertical-align: top;\n    }\n\n    .dataframe thead th {\n        text-align: right;\n    }\n</style>\n<table border=\"1\" class=\"dataframe\">\n  <thead>\n    <tr style=\"text-align: right;\">\n      <th></th>\n      <th>Open</th>\n      <th>High</th>\n      <th>Low</th>\n      <th>Close</th>\n      <th>Volume</th>\n      <th>Dividends</th>\n      <th>Stock Splits</th>\n    </tr>\n    <tr>\n      <th>Date</th>\n      <th></th>\n      <th></th>\n      <th></th>\n      <th></th>\n      <th></th>\n      <th></th>\n      <th></th>\n    </tr>\n  </thead>\n  <tbody>\n    <tr>\n      <th>2021-06-11</th>\n      <td>126.529999</td>\n      <td>127.410004</td>\n      <td>126.099998</td>\n      <td>127.380798</td>\n      <td>35428596</td>\n      <td>0</td>\n      <td>0</td>\n    </tr>\n  </tbody>\n</table>\n</div>"
     },
     "metadata": {},
     "execution_count": 3
    }
   ],
   "source": [
    "yf.Ticker('AAPL').history(period='1d')"
   ]
  },
  {
   "cell_type": "code",
   "execution_count": 38,
   "metadata": {},
   "outputs": [],
   "source": [
    "\n",
    "#yf.Ticker('AAPL').info"
   ]
  },
  {
   "cell_type": "code",
   "execution_count": 4,
   "metadata": {},
   "outputs": [
    {
     "output_type": "execute_result",
     "data": {
      "text/plain": [
       "{'zip': '95014',\n",
       " 'sector': 'Technology',\n",
       " 'fullTimeEmployees': 100000,\n",
       " 'longBusinessSummary': 'Apple Inc. designs, manufactures, and markets smartphones, personal computers, tablets, wearables, and accessories worldwide. It also sells various related services. The company offers iPhone, a line of smartphones; Mac, a line of personal computers; iPad, a line of multi-purpose tablets; and wearables, home, and accessories comprising AirPods, Apple TV, Apple Watch, Beats products, HomePod, iPod touch, and other Apple-branded and third-party accessories. It also provides AppleCare support services; cloud services store services; and operates various platforms, including the App Store, that allow customers to discover and download applications and digital content, such as books, music, video, games, and podcasts. In addition, the company offers various services, such as Apple Arcade, a game subscription service; Apple Music, which offers users a curated listening experience with on-demand radio stations; Apple News+, a subscription news and magazine service; Apple TV+, which offers exclusive original content; Apple Card, a co-branded credit card; and Apple Pay, a cashless payment service, as well as licenses its intellectual property. The company serves consumers, and small and mid-sized businesses; and the education, enterprise, and government markets. It sells and delivers third-party applications for its products through the App Store. The company also sells its products through its retail and online stores, and direct sales force; and third-party cellular network carriers, wholesalers, retailers, and resellers. Apple Inc. was founded in 1977 and is headquartered in Cupertino, California.',\n",
       " 'city': 'Cupertino',\n",
       " 'phone': '408-996-1010',\n",
       " 'state': 'CA',\n",
       " 'country': 'United States',\n",
       " 'companyOfficers': [],\n",
       " 'website': 'http://www.apple.com',\n",
       " 'maxAge': 1,\n",
       " 'address1': 'One Apple Park Way',\n",
       " 'industry': 'Consumer Electronics',\n",
       " 'previousClose': 126.11,\n",
       " 'regularMarketOpen': 126.53,\n",
       " 'twoHundredDayAverage': 127.87825,\n",
       " 'trailingAnnualDividendYield': 0.00650226,\n",
       " 'payoutRatio': 0.1834,\n",
       " 'volume24Hr': None,\n",
       " 'regularMarketDayHigh': 127.41,\n",
       " 'navPrice': None,\n",
       " 'averageDailyVolume10Day': 68957250,\n",
       " 'totalAssets': None,\n",
       " 'regularMarketPreviousClose': 126.11,\n",
       " 'fiftyDayAverage': 127.834854,\n",
       " 'trailingAnnualDividendRate': 0.82,\n",
       " 'open': 126.53,\n",
       " 'toCurrency': None,\n",
       " 'averageVolume10days': 68957250,\n",
       " 'expireDate': None,\n",
       " 'yield': None,\n",
       " 'algorithm': None,\n",
       " 'dividendRate': 0.88,\n",
       " 'exDividendDate': 1620345600,\n",
       " 'beta': 1.208152,\n",
       " 'circulatingSupply': None,\n",
       " 'startDate': None,\n",
       " 'regularMarketDayLow': 126.1,\n",
       " 'priceHint': 2,\n",
       " 'currency': 'USD',\n",
       " 'trailingPE': 28.62778,\n",
       " 'regularMarketVolume': 35456168,\n",
       " 'lastMarket': None,\n",
       " 'maxSupply': None,\n",
       " 'openInterest': None,\n",
       " 'marketCap': 2125416103936,\n",
       " 'volumeAllCurrencies': None,\n",
       " 'strikePrice': None,\n",
       " 'averageVolume': 89753871,\n",
       " 'priceToSalesTrailing12Months': 6.5315824,\n",
       " 'dayLow': 126.1,\n",
       " 'ask': 127.26,\n",
       " 'ytdReturn': None,\n",
       " 'askSize': 2200,\n",
       " 'volume': 35456168,\n",
       " 'fiftyTwoWeekHigh': 145.09,\n",
       " 'forwardPE': 23.806541,\n",
       " 'fromCurrency': None,\n",
       " 'fiveYearAvgDividendYield': 1.34,\n",
       " 'fiftyTwoWeekLow': 83.145,\n",
       " 'bid': 127.25,\n",
       " 'tradeable': False,\n",
       " 'dividendYield': 0.0069999998,\n",
       " 'bidSize': 2900,\n",
       " 'dayHigh': 127.41,\n",
       " 'exchange': 'NMS',\n",
       " 'shortName': 'Apple Inc.',\n",
       " 'longName': 'Apple Inc.',\n",
       " 'exchangeTimezoneName': 'America/New_York',\n",
       " 'exchangeTimezoneShortName': 'EDT',\n",
       " 'isEsgPopulated': False,\n",
       " 'gmtOffSetMilliseconds': '-14400000',\n",
       " 'quoteType': 'EQUITY',\n",
       " 'symbol': 'AAPL',\n",
       " 'messageBoardId': 'finmb_24937',\n",
       " 'market': 'us_market',\n",
       " 'annualHoldingsTurnover': None,\n",
       " 'enterpriseToRevenue': 6.667,\n",
       " 'beta3Year': None,\n",
       " 'profitMargins': 0.23451,\n",
       " 'enterpriseToEbitda': 21.733,\n",
       " '52WeekChange': 0.48890197,\n",
       " 'morningStarRiskRating': None,\n",
       " 'forwardEps': 5.35,\n",
       " 'revenueQuarterlyGrowth': None,\n",
       " 'sharesOutstanding': 16687599616,\n",
       " 'fundInceptionDate': None,\n",
       " 'annualReportExpenseRatio': None,\n",
       " 'bookValue': 4.146,\n",
       " 'sharesShort': 123121920,\n",
       " 'sharesPercentSharesOut': 0.0074,\n",
       " 'fundFamily': None,\n",
       " 'lastFiscalYearEnd': 1601078400,\n",
       " 'heldPercentInstitutions': 0.58701,\n",
       " 'netIncomeToCommon': 76311003136,\n",
       " 'trailingEps': 4.449,\n",
       " 'lastDividendValue': 0.22,\n",
       " 'SandP52WeekChange': 0.39386642,\n",
       " 'priceToBook': 30.718983,\n",
       " 'heldPercentInsiders': 0.00066,\n",
       " 'nextFiscalYearEnd': 1664150400,\n",
       " 'mostRecentQuarter': 1616803200,\n",
       " 'shortRatio': 1.36,\n",
       " 'sharesShortPreviousMonthDate': 1619740800,\n",
       " 'floatShares': 16670108987,\n",
       " 'enterpriseValue': 2169388138496,\n",
       " 'threeYearAverageReturn': None,\n",
       " 'lastSplitDate': 1598832000,\n",
       " 'lastSplitFactor': '4:1',\n",
       " 'legalType': None,\n",
       " 'lastDividendDate': 1620345600,\n",
       " 'morningStarOverallRating': None,\n",
       " 'earningsQuarterlyGrowth': 1.101,\n",
       " 'dateShortInterest': 1622160000,\n",
       " 'pegRatio': 1.45,\n",
       " 'lastCapGain': None,\n",
       " 'shortPercentOfFloat': 0.0074,\n",
       " 'sharesShortPriorMonth': 82710348,\n",
       " 'impliedSharesOutstanding': None,\n",
       " 'category': None,\n",
       " 'fiveYearAverageReturn': None,\n",
       " 'regularMarketPrice': 127.365,\n",
       " 'logo_url': 'https://logo.clearbit.com/apple.com'}"
      ]
     },
     "metadata": {},
     "execution_count": 4
    }
   ],
   "source": [
    "yf.Ticker('AAPL').info\n",
    "#x = yf.Ticker('AAPL').history(period='1d')\n",
    "#print(x)\n",
    "#x.iloc[0,3] # slice the closing price for today from the dataframe that is returned from the history function in yahoo finance \n"
   ]
  },
  {
   "cell_type": "code",
   "execution_count": 10,
   "metadata": {},
   "outputs": [
    {
     "output_type": "execute_result",
     "data": {
      "text/plain": [
       "(126.50499725341797, 'Apple Inc.')"
      ]
     },
     "metadata": {},
     "execution_count": 10
    }
   ],
   "source": [
    "def get_price (ticker):\n",
    "    symbol = yf.Ticker(ticker)\n",
    "    price = symbol.history(period='1d').iloc[0,3]\n",
    "    name = symbol.info\n",
    "    return price , name['longName']\n",
    "\n",
    "get_price('AAPL')\n",
    "# returns closing price for the current day type is a numpy.float\n",
    " \n",
    "\n",
    "    \n",
    "\n"
   ]
  },
  {
   "cell_type": "code",
   "execution_count": 22,
   "metadata": {},
   "outputs": [
    {
     "output_type": "stream",
     "name": "stdout",
     "text": [
      "{\"Symbol\": \"AAPL\", \"Open\": \"$127.0199966430664\", \"High\": \"$128.19000244140625\", \"Low\": \"$126.11499786376953\", \"Close\": \"$126.38990020751953\", \"Volume\": \"$41066116\"}\n"
     ]
    }
   ],
   "source": [
    "def get_details (ticker):\n",
    "    symbol = yf.Ticker(ticker)\n",
    "    open = symbol.history(period='1d').iloc[0,0]\n",
    "    high = symbol.history(period='1d').iloc[0,1]\n",
    "    low = symbol.history(period='1d').iloc[0,2]\n",
    "    close = symbol.history(period='1d').iloc[0,3]\n",
    "    volume = symbol.history(period='1d').iloc[0,4]\n",
    "    stock_dict = {'Symbol' : ticker , 'Open' : \"$\" + str(open) , 'High' : \"$\" + str(high) , 'Low' : \"$\" + str(low) , 'Close' : \"$\" + str(close), 'Volume' : \"$\" + str(volume)}\n",
    "    js = json.dumps(stock_dict)\n",
    "    json_file.write(js)\n",
    "    json_file.close()\n",
    "    return js\n",
    "\n",
    "\n",
    "AAPL = get_details(\"AAPL\")\n",
    "print(AAPL)\n",
    "# returns ticker , open , high , low , close , volume \n",
    "# type is a tuple with string and numpy.floats  "
   ]
  },
  {
   "cell_type": "code",
   "execution_count": null,
   "metadata": {},
   "outputs": [],
   "source": []
  }
 ]
}